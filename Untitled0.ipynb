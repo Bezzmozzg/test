{
  "nbformat": 4,
  "nbformat_minor": 0,
  "metadata": {
    "colab": {
      "name": "Untitled0.ipynb",
      "provenance": [],
      "collapsed_sections": [],
      "authorship_tag": "ABX9TyOD1kUGyx13QaVUxmS5eY37",
      "include_colab_link": true
    },
    "kernelspec": {
      "name": "python3",
      "display_name": "Python 3"
    }
  },
  "cells": [
    {
      "cell_type": "markdown",
      "metadata": {
        "id": "view-in-github",
        "colab_type": "text"
      },
      "source": [
        "<a href=\"https://colab.research.google.com/github/Bezzmozzg/test/blob/master/Untitled0.ipynb\" target=\"_parent\"><img src=\"https://colab.research.google.com/assets/colab-badge.svg\" alt=\"Open In Colab\"/></a>"
      ]
    },
    {
      "cell_type": "code",
      "metadata": {
        "id": "SKm6ahabJ6rd",
        "colab_type": "code",
        "colab": {
          "base_uri": "https://localhost:8080/",
          "height": 312
        },
        "outputId": "43680755-a313-4dd4-8e0c-9781f47d469c"
      },
      "source": [
        "import psycopg2\n",
        "import matplotlib.pyplot as plt\n",
        "\n",
        "with psycopg2.connect(dbname='d6qfh4tmk9h4t2',\n",
        "                       user='xqhkevexwktfkk',\n",
        "                       password='cb8c1a6070ebed38248446e0960ffe7b3fd8ea4927c0aa3ef4d7e1b630588b3f',\n",
        "                       host='ec2-34-225-162-157.compute-1.amazonaws.com') as conn:\n",
        "    with conn.cursor() as cursor:\n",
        "        cursor.execute(\n",
        "            \"\"\"\n",
        "            SELECT bizdev,  COUNT(*) as meet_count FROM b_khalutornykh GROUP BY bizdev;\n",
        "            \"\"\"\n",
        "        )\n",
        "        records = cursor.fetchall()\n",
        "\n",
        "\n",
        "bizdevs = []\n",
        "counts = []\n",
        "for i in records:\n",
        "    bizdevs.append(i[0])\n",
        "    counts.append(i[1])\n",
        "plt.title(\"Bizdevs\")\n",
        "plt.xlabel(\"Counts\")\n",
        "plt.ylabel(\"Bizdevs\")\n",
        "plt.barh(bizdevs, counts)\n"
      ],
      "execution_count": 20,
      "outputs": [
        {
          "output_type": "execute_result",
          "data": {
            "text/plain": [
              "<BarContainer object of 8 artists>"
            ]
          },
          "metadata": {
            "tags": []
          },
          "execution_count": 20
        },
        {
          "output_type": "display_data",
          "data": {
            "image/png": "[encoded data removed]",
            "text/plain": [
              "<Figure size 432x288 with 1 Axes>"
            ]
          },
          "metadata": {
            "tags": [],
            "needs_background": "light"
          }
        }
      ]
    }
  ]
}